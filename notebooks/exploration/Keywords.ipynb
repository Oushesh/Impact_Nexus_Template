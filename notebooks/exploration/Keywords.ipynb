{
 "cells": [
  {
   "cell_type": "code",
   "execution_count": 1,
   "metadata": {},
   "outputs": [],
   "source": [
    "import os\n",
    "os.chdir('../..')"
   ]
  },
  {
   "cell_type": "code",
   "execution_count": 2,
   "metadata": {},
   "outputs": [],
   "source": [
    "from argparse import ArgumentError\n",
    "from glob import glob\n",
    "from pathlib import Path\n",
    "from typing import Counter\n",
    "\n",
    "import spacy\n",
    "import srsly\n",
    "import typer\n",
    "from spacy.tokens import Doc\n",
    "from tqdm import tqdm\n",
    "\n",
    "from scripts.components import (\n",
    "    component_lowercase_lemmas,\n",
    "    financial_tone_classifier,\n",
    "    sentence_masker,\n",
    "    predict_domain_from_keywords,\n",
    "    sustainability_potential_classifier,\n",
    "    keyword_ruler,\n",
    "    entity_ruler,\n",
    ")\n",
    "from scripts.data_helpers import (\n",
    "    extract_sentence_entities,\n",
    "    filter_dups,\n",
    "    filter_item_fields,\n",
    "    hash_documents,\n",
    ")\n",
    "from scripts.extract_paragraphs import paragraph_generator\n",
    "\n"
   ]
  },
  {
   "cell_type": "code",
   "execution_count": 3,
   "metadata": {},
   "outputs": [
    {
     "name": "stderr",
     "output_type": "stream",
     "text": [
      "/home/oguz/.cache/pypoetry/virtualenvs/smart-evidence-hIlc30vc-py3.9/lib/python3.9/site-packages/spacy/util.py:833: UserWarning: [W095] Model 'en_core_web_trf' (3.1.0) was trained with spaCy v3.1 and may not be 100% compatible with the current version (3.2.1). If you see errors or degraded performance, download a newer compatible model or retrain your custom model with the current spaCy version. For more details and available updates, run: python -m spacy validate\n",
      "  warnings.warn(warn_msg)\n",
      "/home/oguz/.cache/pypoetry/virtualenvs/smart-evidence-hIlc30vc-py3.9/lib/python3.9/site-packages/spacy_transformers/pipeline_component.py:406: UserWarning: Automatically converting a transformer component from spacy-transformers v1.0 to v1.1+. If you see errors or degraded performance, download a newer compatible model or retrain your custom model with the current spacy-transformers version. For more details and available updates, run: python -m spacy validate\n",
      "  warnings.warn(warn_msg)\n"
     ]
    },
    {
     "data": {
      "text/plain": [
       "<scripts.components.sentence_masker.DomainSentenceMasker at 0x7f60b9eba6a0>"
      ]
     },
     "execution_count": 3,
     "metadata": {},
     "output_type": "execute_result"
    }
   ],
   "source": [
    "nlp = spacy.load(\"en_core_web_trf\")\n",
    "nlp.add_pipe(\"labeling_ruler\")\n",
    "nlp.add_pipe(\"labeling_extend_ruler\")\n",
    "nlp.add_pipe(\"expand_entities\")\n",
    "nlp.add_pipe(\"lower_case_lemmas\", after=\"lemmatizer\")\n",
    "nlp.add_pipe(\"keyword_ruler\", after=\"lower_case_lemmas\")\n",
    "nlp.add_pipe(\"domain_classifier\")\n",
    "nlp.add_pipe(\"sentence_masker_domain\")"
   ]
  },
  {
   "cell_type": "code",
   "execution_count": 4,
   "metadata": {},
   "outputs": [
    {
     "name": "stderr",
     "output_type": "stream",
     "text": [
      "/home/oguz/.cache/pypoetry/virtualenvs/smart-evidence-hIlc30vc-py3.9/lib/python3.9/site-packages/torch/autocast_mode.py:141: UserWarning: User provided device_type of 'cuda', but CUDA is not available. Disabling\n",
      "  warnings.warn('User provided device_type of \\'cuda\\', but CUDA is not available. Disabling')\n"
     ]
    }
   ],
   "source": [
    "doc = nlp('Cement causes a lot of GHG emissions.')"
   ]
  },
  {
   "cell_type": "code",
   "execution_count": 5,
   "metadata": {},
   "outputs": [
    {
     "data": {
      "text/plain": [
       "[('IX_PRODUCT',\n",
       "  'Products & Activities/UNSPSC/30000000_Structures and Building and Construction and Manufacturing Components and Supplies/30110000_Concrete and cement and plaster/PRODUCT/Cement'),\n",
       " ('IX_IMPACT', 'Impact/IRIS/Climate/IMPACT/ghg'),\n",
       " ('IX_IMPACT', 'Impact/IRIS/Climate/IMPACT/emission')]"
      ]
     },
     "execution_count": 5,
     "metadata": {},
     "output_type": "execute_result"
    }
   ],
   "source": [
    "[(ent.label_, ent.ent_id_) for ent in doc.ents]"
   ]
  }
 ],
 "metadata": {
  "interpreter": {
   "hash": "3a01f96bacd60138fda158296e46c63e862f79e288a616d9fda278940a44f53f"
  },
  "kernelspec": {
   "display_name": "Python 3.9.9 ('smart-evidence-hIlc30vc-py3.9')",
   "language": "python",
   "name": "python3"
  },
  "language_info": {
   "codemirror_mode": {
    "name": "ipython",
    "version": 3
   },
   "file_extension": ".py",
   "mimetype": "text/x-python",
   "name": "python",
   "nbconvert_exporter": "python",
   "pygments_lexer": "ipython3",
   "version": "3.9.9"
  },
  "orig_nbformat": 4
 },
 "nbformat": 4,
 "nbformat_minor": 2
}
